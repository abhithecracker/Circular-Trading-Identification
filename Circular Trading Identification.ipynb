{
 "cells": [
  {
   "cell_type": "markdown",
   "metadata": {},
   "source": [
    "# Importing essential libraries "
   ]
  },
  {
   "cell_type": "code",
   "execution_count": 1,
   "metadata": {},
   "outputs": [],
   "source": [
    "import pandas as pd\n",
    "from tqdm import tqdm"
   ]
  },
  {
   "cell_type": "markdown",
   "metadata": {},
   "source": [
    "# Reading the sample data"
   ]
  },
  {
   "cell_type": "code",
   "execution_count": 2,
   "metadata": {},
   "outputs": [],
   "source": [
    "trans_data = pd.read_csv('transaction data.csv')"
   ]
  },
  {
   "cell_type": "markdown",
   "metadata": {},
   "source": [
    "# Detecting Circular Transactions"
   ]
  },
  {
   "cell_type": "code",
   "execution_count": 3,
   "metadata": {},
   "outputs": [
    {
     "name": "stdout",
     "output_type": "stream",
     "text": [
      "Iteraation :  1 No. of suspicious transactions :  24186\n"
     ]
    },
    {
     "name": "stderr",
     "output_type": "stream",
     "text": [
      "100%|██████████████████████████████████████████████████████████████████████████████| 1713/1713 [07:30<00:00,  3.90it/s]\n"
     ]
    },
    {
     "name": "stdout",
     "output_type": "stream",
     "text": [
      "Iteraation :  2 No. of suspicious transactions :  1259\n"
     ]
    },
    {
     "name": "stderr",
     "output_type": "stream",
     "text": [
      "100%|██████████████████████████████████████████████████████████████████████████████| 1249/1249 [00:17<00:00, 72.60it/s]\n"
     ]
    },
    {
     "name": "stdout",
     "output_type": "stream",
     "text": [
      "Iteraation :  3 No. of suspicious transactions :  91\n"
     ]
    },
    {
     "name": "stderr",
     "output_type": "stream",
     "text": [
      "100%|█████████████████████████████████████████████████████████████████████████████████| 88/88 [00:00<00:00, 885.38it/s]\n"
     ]
    },
    {
     "name": "stdout",
     "output_type": "stream",
     "text": [
      "Iteraation :  4 No. of suspicious transactions :  62\n"
     ]
    },
    {
     "name": "stderr",
     "output_type": "stream",
     "text": [
      "100%|████████████████████████████████████████████████████████████████████████████████| 59/59 [00:00<00:00, 1227.99it/s]\n"
     ]
    },
    {
     "name": "stdout",
     "output_type": "stream",
     "text": [
      "Iteraation :  5 No. of suspicious transactions :  47\n"
     ]
    },
    {
     "name": "stderr",
     "output_type": "stream",
     "text": [
      "100%|████████████████████████████████████████████████████████████████████████████████| 44/44 [00:00<00:00, 1050.61it/s]\n"
     ]
    },
    {
     "name": "stdout",
     "output_type": "stream",
     "text": [
      "6 47 1\n"
     ]
    },
    {
     "name": "stderr",
     "output_type": "stream",
     "text": [
      "100%|████████████████████████████████████████████████████████████████████████████████| 27/27 [00:00<00:00, 1128.09it/s]\n"
     ]
    },
    {
     "name": "stdout",
     "output_type": "stream",
     "text": [
      "7 30 17\n"
     ]
    },
    {
     "name": "stderr",
     "output_type": "stream",
     "text": [
      "100%|████████████████████████████████████████████████████████████████████████████████| 24/24 [00:00<00:00, 1603.28it/s]\n"
     ]
    },
    {
     "name": "stdout",
     "output_type": "stream",
     "text": [
      "8 27 3\n"
     ]
    },
    {
     "name": "stderr",
     "output_type": "stream",
     "text": [
      "100%|████████████████████████████████████████████████████████████████████████████████| 24/24 [00:00<00:00, 1715.90it/s]\n"
     ]
    }
   ],
   "source": [
    "# Initially all the transactions are suspecious\n",
    "suspect_trans = trans_data\n",
    "change = 1\n",
    "flag = 1\n",
    "\n",
    "# Empty variable to store circular transaction\n",
    "circular_trans = []\n",
    "\n",
    "# Iterate till the number of suspicious and circular transactions are same\n",
    "while not change == 0:\n",
    "    circular_trans = []\n",
    "    \n",
    "    # Print iterations and number of suspicious transaction at every iteration\n",
    "    print(\"Iteration : \",flag,\", No. of suspicious transactions : \",len(suspect_trans))\n",
    "    \n",
    "    # Checking weather the buyers are also the sellers\n",
    "    for i in tqdm(set(suspect_trans['BuyerID'])):\n",
    "        for j in range(len(suspect_trans['SellerID'])):\n",
    "            if i == suspect_trans.loc[j,'SellerID']:\n",
    "                \n",
    "                # Recording that perticular transaction where buyer is sellling something\n",
    "                circular_trans.append(suspect_trans.loc[j,'TransactionID'])\n",
    "    \n",
    "    change = len(suspect_trans) - len(circular_trans)\n",
    "    \n",
    "    # Now all the circular transactions are suspicious\n",
    "    suspect_trans = suspect_trans.loc[suspect_trans['TransactionID'].isin(circular_trans)]  \n",
    "    suspect_trans = suspect_trans.reset_index()\n",
    "    del suspect_trans['index']\n",
    "    flag += 1\n",
    "    \n",
    "# Testing in inverse manner\n",
    "change = 1\n",
    "while not change == 0:\n",
    "    circular_trans = []\n",
    "    print(\"Iteration : \",flag,\", No. of suspicious transactions : \",len(suspect_trans))\n",
    "    for i in tqdm(set(suspect_trans['SellerID'])):\n",
    "        for j in range(len(suspect_trans['BuyerID'])):\n",
    "            if i == suspect_trans.loc[j,'BuyerID']:\n",
    "                circular_trans.append(suspect_trans.loc[j,'TransactionID'])\n",
    "    change = len(suspect_trans) - len(circular_trans)\n",
    "    suspect_trans = suspect_trans.loc[suspect_trans['TransactionID'].isin(circular_trans)]  \n",
    "    suspect_trans = suspect_trans.reset_index()\n",
    "    del suspect_trans['index']\n",
    "    flag += 1\n",
    "\n",
    "# Now we have the list of transactions that can male the loop\n",
    "circular_trans = suspect_trans"
   ]
  },
  {
   "cell_type": "markdown",
   "metadata": {},
   "source": [
    "# A look at the circular transactions"
   ]
  },
  {
   "cell_type": "code",
   "execution_count": 6,
   "metadata": {},
   "outputs": [
    {
     "data": {
      "text/html": [
       "<div>\n",
       "<style scoped>\n",
       "    .dataframe tbody tr th:only-of-type {\n",
       "        vertical-align: middle;\n",
       "    }\n",
       "\n",
       "    .dataframe tbody tr th {\n",
       "        vertical-align: top;\n",
       "    }\n",
       "\n",
       "    .dataframe thead th {\n",
       "        text-align: right;\n",
       "    }\n",
       "</style>\n",
       "<table border=\"1\" class=\"dataframe\">\n",
       "  <thead>\n",
       "    <tr style=\"text-align: right;\">\n",
       "      <th></th>\n",
       "      <th>TransactionID</th>\n",
       "      <th>SellerID</th>\n",
       "      <th>BuyerID</th>\n",
       "      <th>Amount(INR)</th>\n",
       "      <th>Date</th>\n",
       "    </tr>\n",
       "  </thead>\n",
       "  <tbody>\n",
       "    <tr>\n",
       "      <th>0</th>\n",
       "      <td>txn_1</td>\n",
       "      <td>TxUI7188</td>\n",
       "      <td>TxUI430</td>\n",
       "      <td>884850.0</td>\n",
       "      <td>8/8/2014</td>\n",
       "    </tr>\n",
       "    <tr>\n",
       "      <th>1</th>\n",
       "      <td>txn_2</td>\n",
       "      <td>TxUI430</td>\n",
       "      <td>TxUI160</td>\n",
       "      <td>841210.0</td>\n",
       "      <td>8/15/2013</td>\n",
       "    </tr>\n",
       "    <tr>\n",
       "      <th>2</th>\n",
       "      <td>txn_4</td>\n",
       "      <td>TxUI160</td>\n",
       "      <td>TxUI3010</td>\n",
       "      <td>860340.0</td>\n",
       "      <td>10/12/2012</td>\n",
       "    </tr>\n",
       "    <tr>\n",
       "      <th>3</th>\n",
       "      <td>txn_5</td>\n",
       "      <td>TxUI3010</td>\n",
       "      <td>TxUI89</td>\n",
       "      <td>407550.0</td>\n",
       "      <td>9/17/2012</td>\n",
       "    </tr>\n",
       "    <tr>\n",
       "      <th>4</th>\n",
       "      <td>txn_11</td>\n",
       "      <td>TxUI89</td>\n",
       "      <td>TxUI161</td>\n",
       "      <td>266483.0</td>\n",
       "      <td>11/1/2012</td>\n",
       "    </tr>\n",
       "    <tr>\n",
       "      <th>5</th>\n",
       "      <td>txn_12</td>\n",
       "      <td>TxUI89</td>\n",
       "      <td>TxUI256</td>\n",
       "      <td>275760.0</td>\n",
       "      <td>9/27/2014</td>\n",
       "    </tr>\n",
       "    <tr>\n",
       "      <th>6</th>\n",
       "      <td>txn_13</td>\n",
       "      <td>TxUI161</td>\n",
       "      <td>TxUI37</td>\n",
       "      <td>259170.0</td>\n",
       "      <td>10/15/2014</td>\n",
       "    </tr>\n",
       "    <tr>\n",
       "      <th>7</th>\n",
       "      <td>txn_14</td>\n",
       "      <td>TxUI256</td>\n",
       "      <td>TxUI37</td>\n",
       "      <td>417240.0</td>\n",
       "      <td>7/18/2012</td>\n",
       "    </tr>\n",
       "    <tr>\n",
       "      <th>8</th>\n",
       "      <td>txn_21</td>\n",
       "      <td>TxUI37</td>\n",
       "      <td>TxUI7188</td>\n",
       "      <td>413530.0</td>\n",
       "      <td>7/17/2013</td>\n",
       "    </tr>\n",
       "    <tr>\n",
       "      <th>9</th>\n",
       "      <td>txn_280</td>\n",
       "      <td>TxUI37H</td>\n",
       "      <td>TxUI7188H</td>\n",
       "      <td>34565.0</td>\n",
       "      <td>6/22/2012</td>\n",
       "    </tr>\n",
       "    <tr>\n",
       "      <th>10</th>\n",
       "      <td>txn_480</td>\n",
       "      <td>TxUI7188H</td>\n",
       "      <td>TxUI430H</td>\n",
       "      <td>33965.0</td>\n",
       "      <td>11/27/2014</td>\n",
       "    </tr>\n",
       "    <tr>\n",
       "      <th>11</th>\n",
       "      <td>txn_481</td>\n",
       "      <td>TxUI430H</td>\n",
       "      <td>TxUI160H</td>\n",
       "      <td>47202.0</td>\n",
       "      <td>11/14/2014</td>\n",
       "    </tr>\n",
       "    <tr>\n",
       "      <th>12</th>\n",
       "      <td>txn_483</td>\n",
       "      <td>TxUI160H</td>\n",
       "      <td>TxUI3010H</td>\n",
       "      <td>60964.0</td>\n",
       "      <td>10/15/2014</td>\n",
       "    </tr>\n",
       "    <tr>\n",
       "      <th>13</th>\n",
       "      <td>txn_484</td>\n",
       "      <td>TxUI3010H</td>\n",
       "      <td>TxUI89H</td>\n",
       "      <td>11055.0</td>\n",
       "      <td>9/26/2014</td>\n",
       "    </tr>\n",
       "    <tr>\n",
       "      <th>14</th>\n",
       "      <td>txn_490</td>\n",
       "      <td>TxUI89H</td>\n",
       "      <td>TxUI161H</td>\n",
       "      <td>15693.0</td>\n",
       "      <td>5/12/2014</td>\n",
       "    </tr>\n",
       "    <tr>\n",
       "      <th>15</th>\n",
       "      <td>txn_491</td>\n",
       "      <td>TxUI89H</td>\n",
       "      <td>TxUI256H</td>\n",
       "      <td>80374.0</td>\n",
       "      <td>5/4/2014</td>\n",
       "    </tr>\n",
       "    <tr>\n",
       "      <th>16</th>\n",
       "      <td>txn_778</td>\n",
       "      <td>TxUI161H</td>\n",
       "      <td>TxUI37H</td>\n",
       "      <td>43041.0</td>\n",
       "      <td>12/17/2011</td>\n",
       "    </tr>\n",
       "    <tr>\n",
       "      <th>17</th>\n",
       "      <td>txn_779</td>\n",
       "      <td>TxUI256H</td>\n",
       "      <td>TxUI37H</td>\n",
       "      <td>38446.0</td>\n",
       "      <td>12/23/2011</td>\n",
       "    </tr>\n",
       "    <tr>\n",
       "      <th>18</th>\n",
       "      <td>txn_1021</td>\n",
       "      <td>TxUI7188Z</td>\n",
       "      <td>TxUI430Z</td>\n",
       "      <td>26877.0</td>\n",
       "      <td>12/16/2013</td>\n",
       "    </tr>\n",
       "    <tr>\n",
       "      <th>19</th>\n",
       "      <td>txn_1022</td>\n",
       "      <td>TxUI430Z</td>\n",
       "      <td>TxUI160Z</td>\n",
       "      <td>80116.0</td>\n",
       "      <td>10/16/2013</td>\n",
       "    </tr>\n",
       "    <tr>\n",
       "      <th>20</th>\n",
       "      <td>txn_1024</td>\n",
       "      <td>TxUI160Z</td>\n",
       "      <td>TxUI3010Z</td>\n",
       "      <td>22296.0</td>\n",
       "      <td>4/14/2013</td>\n",
       "    </tr>\n",
       "    <tr>\n",
       "      <th>21</th>\n",
       "      <td>txn_1025</td>\n",
       "      <td>TxUI3010Z</td>\n",
       "      <td>TxUI89Z</td>\n",
       "      <td>78314.0</td>\n",
       "      <td>3/21/2013</td>\n",
       "    </tr>\n",
       "    <tr>\n",
       "      <th>22</th>\n",
       "      <td>txn_1031</td>\n",
       "      <td>TxUI89Z</td>\n",
       "      <td>TxUI161Z</td>\n",
       "      <td>28365.0</td>\n",
       "      <td>7/24/2012</td>\n",
       "    </tr>\n",
       "    <tr>\n",
       "      <th>23</th>\n",
       "      <td>txn_1032</td>\n",
       "      <td>TxUI89Z</td>\n",
       "      <td>TxUI256Z</td>\n",
       "      <td>53734.0</td>\n",
       "      <td>6/25/2012</td>\n",
       "    </tr>\n",
       "    <tr>\n",
       "      <th>24</th>\n",
       "      <td>txn_1033</td>\n",
       "      <td>TxUI161Z</td>\n",
       "      <td>TxUI37Z</td>\n",
       "      <td>94385.0</td>\n",
       "      <td>5/8/2012</td>\n",
       "    </tr>\n",
       "    <tr>\n",
       "      <th>25</th>\n",
       "      <td>txn_1034</td>\n",
       "      <td>TxUI256Z</td>\n",
       "      <td>TxUI37Z</td>\n",
       "      <td>81281.0</td>\n",
       "      <td>5/7/2012</td>\n",
       "    </tr>\n",
       "    <tr>\n",
       "      <th>26</th>\n",
       "      <td>txn_1041</td>\n",
       "      <td>TxUI37Z</td>\n",
       "      <td>TxUI7188Z</td>\n",
       "      <td>22545.0</td>\n",
       "      <td>3/30/2012</td>\n",
       "    </tr>\n",
       "  </tbody>\n",
       "</table>\n",
       "</div>"
      ],
      "text/plain": [
       "   TransactionID   SellerID    BuyerID  Amount(INR)        Date\n",
       "0          txn_1   TxUI7188    TxUI430     884850.0    8/8/2014\n",
       "1          txn_2    TxUI430    TxUI160     841210.0   8/15/2013\n",
       "2          txn_4    TxUI160   TxUI3010     860340.0  10/12/2012\n",
       "3          txn_5   TxUI3010     TxUI89     407550.0   9/17/2012\n",
       "4         txn_11     TxUI89    TxUI161     266483.0   11/1/2012\n",
       "5         txn_12     TxUI89    TxUI256     275760.0   9/27/2014\n",
       "6         txn_13    TxUI161     TxUI37     259170.0  10/15/2014\n",
       "7         txn_14    TxUI256     TxUI37     417240.0   7/18/2012\n",
       "8         txn_21     TxUI37   TxUI7188     413530.0   7/17/2013\n",
       "9        txn_280    TxUI37H  TxUI7188H      34565.0   6/22/2012\n",
       "10       txn_480  TxUI7188H   TxUI430H      33965.0  11/27/2014\n",
       "11       txn_481   TxUI430H   TxUI160H      47202.0  11/14/2014\n",
       "12       txn_483   TxUI160H  TxUI3010H      60964.0  10/15/2014\n",
       "13       txn_484  TxUI3010H    TxUI89H      11055.0   9/26/2014\n",
       "14       txn_490    TxUI89H   TxUI161H      15693.0   5/12/2014\n",
       "15       txn_491    TxUI89H   TxUI256H      80374.0    5/4/2014\n",
       "16       txn_778   TxUI161H    TxUI37H      43041.0  12/17/2011\n",
       "17       txn_779   TxUI256H    TxUI37H      38446.0  12/23/2011\n",
       "18      txn_1021  TxUI7188Z   TxUI430Z      26877.0  12/16/2013\n",
       "19      txn_1022   TxUI430Z   TxUI160Z      80116.0  10/16/2013\n",
       "20      txn_1024   TxUI160Z  TxUI3010Z      22296.0   4/14/2013\n",
       "21      txn_1025  TxUI3010Z    TxUI89Z      78314.0   3/21/2013\n",
       "22      txn_1031    TxUI89Z   TxUI161Z      28365.0   7/24/2012\n",
       "23      txn_1032    TxUI89Z   TxUI256Z      53734.0   6/25/2012\n",
       "24      txn_1033   TxUI161Z    TxUI37Z      94385.0    5/8/2012\n",
       "25      txn_1034   TxUI256Z    TxUI37Z      81281.0    5/7/2012\n",
       "26      txn_1041    TxUI37Z  TxUI7188Z      22545.0   3/30/2012"
      ]
     },
     "execution_count": 6,
     "metadata": {},
     "output_type": "execute_result"
    }
   ],
   "source": [
    "circular_trans"
   ]
  },
  {
   "cell_type": "markdown",
   "metadata": {},
   "source": [
    "# Lets plot and see in the directed graphs"
   ]
  },
  {
   "cell_type": "code",
   "execution_count": 8,
   "metadata": {},
   "outputs": [
    {
     "name": "stderr",
     "output_type": "stream",
     "text": [
      "C:\\Users\\Abhilash\\AppData\\Local\\Continuum\\anaconda3\\lib\\site-packages\\networkx\\drawing\\nx_pylab.py:611: MatplotlibDeprecationWarning: isinstance(..., numbers.Number)\n",
      "  if cb.is_numlike(alpha):\n"
     ]
    },
    {
     "data": {
      "image/png": "[encoded data removed]",
      "text/plain": [
       "<Figure size 1800x1800 with 1 Axes>"
      ]
     },
     "metadata": {},
     "output_type": "display_data"
    }
   ],
   "source": [
    "import networkx as nx\n",
    "import matplotlib.pyplot as plt\n",
    "plt.figure(figsize=(25,25))\n",
    "\n",
    "G = nx.DiGraph()\n",
    "for i in range(len(circular_trans)):\n",
    "            G.add_edges_from([tuple(circular_trans.loc[i,['SellerID','BuyerID']])], weight=circular_trans.loc[i,'Amount(INR)'])\n",
    "\n",
    "edge_labels=dict([((u,v,),d['weight'])\n",
    "                 for u,v,d in G.edges(data=True)])\n",
    "\n",
    "edge_colours = ['black']\n",
    "black_edges = [edge for edge in G.edges()]\n",
    "\n",
    "# Need to create a layout when doing\n",
    "# separate calls to draw nodes and edges\n",
    "pos = nx.spring_layout(G)\n",
    "nx.draw_networkx_nodes(G, pos, cmap=plt.get_cmap('jet'), \n",
    "                       node_color = '0.5714285714285714', node_size = 5000)\n",
    "nx.draw_networkx_labels(G, pos)\n",
    "nx.draw_networkx_edge_labels(G,pos,edge_labels=edge_labels)\n",
    "nx.draw_networkx_edges(G, pos, edgelist=black_edges, arrows=False)\n",
    "plt.show()\n"
   ]
  },
  {
   "cell_type": "code",
   "execution_count": null,
   "metadata": {},
   "outputs": [],
   "source": []
  },
  {
   "cell_type": "code",
   "execution_count": null,
   "metadata": {},
   "outputs": [],
   "source": []
  }
 ],
 "metadata": {
  "kernelspec": {
   "display_name": "Python 3",
   "language": "python",
   "name": "python3"
  },
  "language_info": {
   "codemirror_mode": {
    "name": "ipython",
    "version": 3
   },
   "file_extension": ".py",
   "mimetype": "text/x-python",
   "name": "python",
   "nbconvert_exporter": "python",
   "pygments_lexer": "ipython3",
   "version": "3.6.4"
  }
 },
 "nbformat": 4,
 "nbformat_minor": 2
}
